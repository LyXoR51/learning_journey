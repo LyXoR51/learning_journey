{
 "cells": [
  {
   "cell_type": "markdown",
   "id": "1d17b807",
   "metadata": {},
   "source": [
    "# Numbers"
   ]
  },
  {
   "cell_type": "markdown",
   "id": "d6274f52",
   "metadata": {},
   "source": [
    "## 1. Currency Exchange"
   ]
  },
  {
   "cell_type": "code",
   "execution_count": null,
   "id": "1445d2ab",
   "metadata": {},
   "outputs": [],
   "source": [
    "def exchange_money(budget, exchange_rate):\n",
    "    \"\"\"\n",
    "\n",
    "    :param budget: float - amount of money you are planning to exchange.\n",
    "    :param exchange_rate: float - unit value of the foreign currency.\n",
    "    :return: float - exchanged value of the foreign currency you can receive.\n",
    "    \"\"\"\n",
    "\n",
    "    return budget / exchange_rate\n"
   ]
  },
  {
   "cell_type": "code",
   "execution_count": null,
   "id": "53e28497",
   "metadata": {},
   "outputs": [],
   "source": [
    "\n",
    "\n",
    "def get_change(budget, exchanging_value):\n",
    "    \"\"\"\n",
    "\n",
    "    :param budget: float - amount of money you own.\n",
    "    :param exchanging_value: float - amount of your money you want to exchange now.\n",
    "    :return: float - amount left of your starting currency after exchanging.\n",
    "    \"\"\"\n",
    "\n",
    "    return budget - exchanging_value\n",
    "\n"
   ]
  },
  {
   "cell_type": "code",
   "execution_count": null,
   "id": "39e240ed",
   "metadata": {},
   "outputs": [],
   "source": [
    "\n",
    "def get_value_of_bills(denomination, number_of_bills):\n",
    "    \"\"\"\n",
    "\n",
    "    :param denomination: int - the value of a bill.\n",
    "    :param number_of_bills: int - total number of bills.\n",
    "    :return: int - calculated value of the bills.\n",
    "    \"\"\"\n",
    "\n",
    "    return denomination * number_of_bills\n"
   ]
  },
  {
   "cell_type": "code",
   "execution_count": null,
   "id": "6634a184",
   "metadata": {},
   "outputs": [],
   "source": [
    "\n",
    "\n",
    "def get_number_of_bills(amount, denomination):\n",
    "    \"\"\"\n",
    "\n",
    "    :param amount: float - the total starting value.\n",
    "    :param denomination: int - the value of a single bill.\n",
    "    :return: int - number of bills that can be obtained from the amount.\n",
    "    \"\"\"\n",
    "\n",
    "    return amount // denomination\n",
    "\n"
   ]
  },
  {
   "cell_type": "code",
   "execution_count": null,
   "id": "65854d89",
   "metadata": {},
   "outputs": [],
   "source": [
    "\n",
    "def get_leftover_of_bills(amount, denomination):\n",
    "    \"\"\"\n",
    "\n",
    "    :param amount: float - the total starting value.\n",
    "    :param denomination: int - the value of a single bill.\n",
    "    :return: float - the amount that is \"leftover\", given the current denomination.\n",
    "    \"\"\"\n",
    "\n",
    "    return amount % denomination\n"
   ]
  },
  {
   "cell_type": "code",
   "execution_count": null,
   "id": "33460e99",
   "metadata": {},
   "outputs": [],
   "source": [
    "\n",
    "def exchangeable_value(budget, exchange_rate, spread, denomination):\n",
    "    \"\"\"\n",
    "\n",
    "    :param budget: float - the amount of your money you are planning to exchange.\n",
    "    :param exchange_rate: float - the unit value of the foreign currency.\n",
    "    :param spread: int - percentage that is taken as an exchange fee.\n",
    "    :param denomination: int - the value of a single bill.\n",
    "    :return: int - maximum value you can get.\n",
    "    \"\"\"\n",
    "    new_rate = exchange_rate + (exchange_rate * (spread / 100)) \n",
    "    total_new_currency = exchange_money(budget, new_rate)\n",
    "\n",
    "    bill_value_new_currency = int(total_new_currency / denomination)\n",
    "    maximun_value_new_currency = bill_value_new_currency * denomination\n",
    "\n",
    "    return maximun_value_new_currency\n",
    "    \n",
    " "
   ]
  },
  {
   "cell_type": "markdown",
   "id": "33581cde",
   "metadata": {},
   "source": [
    "## 2. Grains"
   ]
  },
  {
   "cell_type": "code",
   "execution_count": 1,
   "id": "8b0a3b90",
   "metadata": {},
   "outputs": [],
   "source": [
    "def square(number):\n",
    "    if number not in range(1,65):\n",
    "        raise ValueError(\"square must be between 1 and 64\")\n",
    "    return 2 ** (number - 1)\n",
    "\n",
    "\n",
    "def total():\n",
    "    return 2 ** 64 - 1"
   ]
  },
  {
   "cell_type": "markdown",
   "id": "254ed5c9",
   "metadata": {},
   "source": [
    "## 3.  Armstrong Numbers"
   ]
  },
  {
   "cell_type": "code",
   "execution_count": 2,
   "id": "16451596",
   "metadata": {},
   "outputs": [],
   "source": [
    "def is_armstrong_number(number):\n",
    "    list_number = list(str(number))\n",
    "    sum_calcul = 0\n",
    "    for e in list_number:\n",
    "       sum_calcul += (int(e)**len(list_number))\n",
    "    return number == sum_calcul\n",
    "\n",
    "    "
   ]
  },
  {
   "cell_type": "markdown",
   "id": "1e857307",
   "metadata": {},
   "source": [
    "## 4. Collatz Conjecture"
   ]
  },
  {
   "cell_type": "code",
   "execution_count": 4,
   "id": "d58987d0",
   "metadata": {},
   "outputs": [
    {
     "data": {
      "text/plain": [
       "132"
      ]
     },
     "execution_count": 4,
     "metadata": {},
     "output_type": "execute_result"
    }
   ],
   "source": [
    "def steps(number):\n",
    "    if number <= 0:\n",
    "        raise ValueError(\"Only positive integers are allowed\")\n",
    "    i = 0\n",
    "    while number != 1:\n",
    "        number = number / 2 if number % 2 == 0 else (number * 3) + 1\n",
    "        i += 1\n",
    "    return i\n",
    "\n",
    "\n",
    "steps(45878)\n",
    "\n",
    "        \n"
   ]
  }
 ],
 "metadata": {
  "kernelspec": {
   "display_name": "ML",
   "language": "python",
   "name": "python3"
  },
  "language_info": {
   "codemirror_mode": {
    "name": "ipython",
    "version": 3
   },
   "file_extension": ".py",
   "mimetype": "text/x-python",
   "name": "python",
   "nbconvert_exporter": "python",
   "pygments_lexer": "ipython3",
   "version": "3.12.11"
  }
 },
 "nbformat": 4,
 "nbformat_minor": 5
}
