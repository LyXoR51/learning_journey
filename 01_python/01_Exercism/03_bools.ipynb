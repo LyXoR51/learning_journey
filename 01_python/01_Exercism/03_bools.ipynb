{
 "cells": [
  {
   "cell_type": "markdown",
   "id": "434a69ce",
   "metadata": {},
   "source": [
    "# Bools"
   ]
  },
  {
   "cell_type": "markdown",
   "id": "fae09558",
   "metadata": {},
   "source": [
    "## 1. Ghost Gobble Arcade Game"
   ]
  },
  {
   "cell_type": "code",
   "execution_count": null,
   "id": "01db48a8",
   "metadata": {},
   "outputs": [],
   "source": [
    "\"\"\"Functions for implementing the rules of the classic arcade game Pac-Man.\"\"\"\n",
    "\n",
    "\n",
    "def eat_ghost(power_pellet_active, touching_ghost):\n",
    "    \"\"\"Verify that Pac-Man can eat a ghost if he is empowered by a power pellet.\n",
    "\n",
    "    :param power_pellet_active: bool - does the player have an active power pellet?\n",
    "    :param touching_ghost: bool - is the player touching a ghost?\n",
    "    :return: bool - can a ghost be eaten?\n",
    "    \"\"\"\n",
    "\n",
    "    return power_pellet_active and touching_ghost "
   ]
  },
  {
   "cell_type": "code",
   "execution_count": null,
   "id": "2c28ed58",
   "metadata": {},
   "outputs": [],
   "source": [
    "\n",
    "\n",
    "def score(touching_power_pellet, touching_dot):\n",
    "    \"\"\"Verify that Pac-Man has scored when a power pellet or dot has been eaten.\n",
    "\n",
    "    :param touching_power_pellet: bool - is the player touching a power pellet?\n",
    "    :param touching_dot: bool - is the player touching a dot?\n",
    "    :return: bool - has the player scored or not?\n",
    "    \"\"\"\n",
    "\n",
    "    return touching_power_pellet or touching_dot"
   ]
  },
  {
   "cell_type": "code",
   "execution_count": null,
   "id": "12601e99",
   "metadata": {},
   "outputs": [],
   "source": [
    "\n",
    "\n",
    "def lose(power_pellet_active, touching_ghost):\n",
    "    \"\"\"Trigger the game loop to end (GAME OVER) when Pac-Man touches a ghost without his power pellet.\n",
    "\n",
    "    :param power_pellet_active: bool - does the player have an active power pellet?\n",
    "    :param touching_ghost: bool - is the player touching a ghost?\n",
    "    :return: bool - has the player lost the game?\n",
    "    \"\"\"\n",
    "\n",
    "    return not power_pellet_active and touching_ghost"
   ]
  },
  {
   "cell_type": "code",
   "execution_count": null,
   "id": "810d89df",
   "metadata": {},
   "outputs": [],
   "source": [
    "\n",
    "def win(has_eaten_all_dots, power_pellet_active, touching_ghost):\n",
    "    \"\"\"Trigger the victory event when all dots have been eaten.\n",
    "\n",
    "    :param has_eaten_all_dots: bool - has the player \"eaten\" all the dots?\n",
    "    :param power_pellet_active: bool - does the player have an active power pellet?\n",
    "    :param touching_ghost: bool - is the player touching a ghost?\n",
    "    :return: bool - has the player won the game?\n",
    "    \"\"\"\n",
    "\n",
    "    return has_eaten_all_dots and not lose(power_pellet_active, touching_ghost)"
   ]
  },
  {
   "cell_type": "markdown",
   "id": "c1070a6b",
   "metadata": {},
   "source": [
    "## 2. Leap"
   ]
  },
  {
   "cell_type": "code",
   "execution_count": null,
   "id": "d2af380a",
   "metadata": {},
   "outputs": [],
   "source": [
    "def leap_year(year):\n",
    "    return (year % 100 != 0 or year % 400 == 0) and year % 4 == 0"
   ]
  },
  {
   "cell_type": "markdown",
   "id": "17f73c08",
   "metadata": {},
   "source": [
    "## 3. Triangles"
   ]
  },
  {
   "cell_type": "code",
   "execution_count": null,
   "id": "59cda4b2",
   "metadata": {},
   "outputs": [],
   "source": [
    "def is_triangle(sides):\n",
    "    a, b, c = sides\n",
    "    return a + b >= c and b + c >= a and a + c >= b and not 0 in (sides)"
   ]
  },
  {
   "cell_type": "code",
   "execution_count": null,
   "id": "cd7a4706",
   "metadata": {},
   "outputs": [],
   "source": [
    "def equilateral(sides):\n",
    "    a, b, c = sides\n",
    "    return a == b and b == c and is_triangle(sides)"
   ]
  },
  {
   "cell_type": "code",
   "execution_count": null,
   "id": "97416bd9",
   "metadata": {},
   "outputs": [],
   "source": [
    "def isosceles(sides):\n",
    "    a, b, c = sides\n",
    "    return (a == b or a == c or b == c) and is_triangle(sides)"
   ]
  },
  {
   "cell_type": "code",
   "execution_count": null,
   "id": "a0c223d8",
   "metadata": {},
   "outputs": [],
   "source": [
    "def scalene(sides):\n",
    "    a, b, c = sides\n",
    "    return not(a == b or a == c or b == c) and is_triangle(sides)"
   ]
  }
 ],
 "metadata": {
  "kernelspec": {
   "display_name": "ML",
   "language": "python",
   "name": "python3"
  },
  "language_info": {
   "name": "python",
   "version": "3.12.11"
  }
 },
 "nbformat": 4,
 "nbformat_minor": 5
}
