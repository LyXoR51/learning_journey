{
 "cells": [
  {
   "cell_type": "markdown",
   "id": "40bed4fa",
   "metadata": {},
   "source": [
    "# Basics"
   ]
  },
  {
   "cell_type": "markdown",
   "id": "55456835",
   "metadata": {},
   "source": [
    "## 1. Guido's Gorgeous Lasagna "
   ]
  },
  {
   "cell_type": "code",
   "execution_count": null,
   "id": "b5ba72b6",
   "metadata": {},
   "outputs": [],
   "source": [
    "# time the lasagna should be in the oven according to the cookbook.\n",
    "EXPECTED_BAKE_TIME = 40\n",
    "PREPARATION_TIME = 2"
   ]
  },
  {
   "cell_type": "code",
   "execution_count": null,
   "id": "6918b2be",
   "metadata": {},
   "outputs": [],
   "source": [
    "\n",
    "\n",
    "def bake_time_remaining(elapsed_bake_time):\n",
    "    \"\"\"Calculate the bake time remaining.\n",
    "\n",
    "   :param elapsed_bake_time: int baking time already elapsed\n",
    "   :return: int remaining bake time (in minutes) derived from 'EXPECTED_BAKE_TIME'\n",
    "\n",
    "   Function that takes the actual minutes the lasagna has been in the oven as\n",
    "   an argument and returns how many minutes the lasagna still needs to bake\n",
    "   based on the `EXPECTED_BAKE_TIME`.\n",
    "   \"\"\"\n",
    "\n",
    "    return EXPECTED_BAKE_TIME - elapsed_bake_time"
   ]
  },
  {
   "cell_type": "code",
   "execution_count": null,
   "id": "e3bb1c7e",
   "metadata": {},
   "outputs": [],
   "source": [
    "\n",
    "\n",
    "def preparation_time_in_minutes(number_of_layers):\n",
    "    \"\"\"Calculate the preparation time.\n",
    "\n",
    "    :param number_of_layers: int the number of lasagna layers made\n",
    "    :return: int amount of prep time (in minutes), based on 2 minutes per layer added\n",
    "\n",
    "    This function takes an integer representing the number of layers added to the dish,\n",
    "    calculating preparation time using a time of 2 minutes per layer added.\n",
    "    \"\"\"\n",
    "\n",
    "    return number_of_layers * PREPARATION_TIME\n"
   ]
  },
  {
   "cell_type": "code",
   "execution_count": null,
   "id": "ac92971c",
   "metadata": {},
   "outputs": [],
   "source": [
    "\n",
    "def elapsed_time_in_minutes(number_of_layers, elapsed_bake_time):\n",
    "    \"\"\"Calculate the elapsed time.\n",
    "\n",
    "    :param number_of_layers: int the number of layers in the lasagna\n",
    "    :param elapsed_bake_time: int elapsed cooking time\n",
    "    :return:  int total time elapsed (in in minutes) preparing and cooking\n",
    "\n",
    "    This function takes two integers representing the number of lasagna layers and the time already spent baking\n",
    "     and calculates the total elapsed minutes spent cooking the lasagna.\n",
    "    \"\"\"\n",
    "\n",
    "    return preparation_time_in_minutes(number_of_layers) + elapsed_bake_time\n"
   ]
  }
 ],
 "metadata": {
  "kernelspec": {
   "display_name": "ML",
   "language": "python",
   "name": "python3"
  },
  "language_info": {
   "name": "python",
   "version": "3.12.11"
  }
 },
 "nbformat": 4,
 "nbformat_minor": 5
}
