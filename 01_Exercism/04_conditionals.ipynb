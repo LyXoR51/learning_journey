{
 "cells": [
  {
   "cell_type": "markdown",
   "id": "630cc859",
   "metadata": {},
   "source": [
    "# Conditionals"
   ]
  },
  {
   "cell_type": "markdown",
   "id": "35ba307a",
   "metadata": {},
   "source": [
    "## 1. Meltdown Mitigation"
   ]
  },
  {
   "cell_type": "code",
   "execution_count": null,
   "id": "9ae8fef5",
   "metadata": {},
   "outputs": [],
   "source": [
    "\"\"\"Functions to prevent a nuclear meltdown.\"\"\"\n",
    "\n",
    "\n",
    "def is_criticality_balanced(temperature, neutrons_emitted):\n",
    "    \"\"\"Verify criticality is balanced.\n",
    "\n",
    "    :param temperature: int or float - temperature value in kelvin.\n",
    "    :param neutrons_emitted: int or float - number of neutrons emitted per second.\n",
    "    :return: bool - is criticality balanced?\n",
    "\n",
    "    A reactor is said to be balanced in criticality if it satisfies the following conditions:\n",
    "    - The temperature is less than 800 K.\n",
    "    - The number of neutrons emitted per second is greater than 500.\n",
    "    - The product of temperature and neutrons emitted per second is less than 500000.\n",
    "    \"\"\"\n",
    "\n",
    "    return temperature < 800 and neutrons_emitted > 500 and temperature * neutrons_emitted < 500000"
   ]
  },
  {
   "cell_type": "code",
   "execution_count": null,
   "id": "b7ba108e",
   "metadata": {},
   "outputs": [],
   "source": [
    "def reactor_efficiency(voltage, current, theoretical_max_power):\n",
    "    \"\"\"Assess reactor efficiency zone.\n",
    "\n",
    "    :param voltage: int or float - voltage value.\n",
    "    :param current: int or float - current value.\n",
    "    :param theoretical_max_power: int or float - power that corresponds to a 100% efficiency.\n",
    "    :return: str - one of ('green', 'orange', 'red', or 'black').\n",
    "\n",
    "    Efficiency can be grouped into 4 bands:\n",
    "\n",
    "    1. green -> efficiency of 80% or more,\n",
    "    2. orange -> efficiency of less than 80% but at least 60%,\n",
    "    3. red -> efficiency below 60%, but still 30% or more,\n",
    "    4. black ->  less than 30% efficient.\n",
    "\n",
    "    The percentage value is calculated as\n",
    "    (generated power/ theoretical max power)*100\n",
    "    where generated power = voltage * current\n",
    "    \"\"\"\n",
    "\n",
    "    generated_power = voltage * current\n",
    "    efficiency = (generated_power / theoretical_max_power) * 100\n",
    "\n",
    "    if efficiency < 30:\n",
    "        state = 'black'\n",
    "    elif efficiency < 60:\n",
    "        state = 'red'\n",
    "    elif efficiency < 80:\n",
    "        state = 'orange'\n",
    "    else:\n",
    "        state = 'green'\n",
    "    return state"
   ]
  },
  {
   "cell_type": "code",
   "execution_count": null,
   "id": "53d2e10a",
   "metadata": {},
   "outputs": [],
   "source": [
    "\n",
    "def fail_safe(temperature, neutrons_produced_per_second, threshold):\n",
    "    \"\"\"Assess and return status code for the reactor.\n",
    "\n",
    "    :param temperature: int or float - value of the temperature in kelvin.\n",
    "    :param neutrons_produced_per_second: int or float - neutron flux.\n",
    "    :param threshold: int or float - threshold for category.\n",
    "    :return: str - one of ('LOW', 'NORMAL', 'DANGER').\n",
    "\n",
    "    1. 'LOW' -> `temperature * neutrons per second` < 90% of `threshold`\n",
    "    2. 'NORMAL' -> `temperature * neutrons per second` +/- 10% of `threshold`\n",
    "    3. 'DANGER' -> `temperature * neutrons per second` is not in the above-stated ranges\n",
    "    \"\"\"\n",
    "\n",
    "    control = temperature * neutrons_produced_per_second\n",
    "\n",
    "    if control < 0.9 * threshold:\n",
    "        status = 'LOW'\n",
    "    elif  0.9 * threshold <= control <= 1.1 * threshold:\n",
    "        status = 'NORMAL'\n",
    "    else:\n",
    "        status = 'DANGER'\n",
    "    return status"
   ]
  }
 ],
 "metadata": {
  "kernelspec": {
   "display_name": "ML",
   "language": "python",
   "name": "python3"
  },
  "language_info": {
   "name": "python",
   "version": "3.12.11"
  }
 },
 "nbformat": 4,
 "nbformat_minor": 5
}
