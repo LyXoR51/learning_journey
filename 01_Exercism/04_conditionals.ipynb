{
 "cells": [
  {
   "cell_type": "markdown",
   "id": "630cc859",
   "metadata": {},
   "source": [
    "# Conditionals"
   ]
  }
 ],
 "metadata": {
  "language_info": {
   "name": "python"
  }
 },
 "nbformat": 4,
 "nbformat_minor": 5
}
