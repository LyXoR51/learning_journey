{
 "cells": [
  {
   "cell_type": "markdown",
   "id": "f7ab570a",
   "metadata": {},
   "source": [
    "# 1. Alias"
   ]
  },
  {
   "cell_type": "code",
   "execution_count": null,
   "id": "3de7e39d",
   "metadata": {
    "vscode": {
     "languageId": "plaintext"
    }
   },
   "outputs": [],
   "source": [
    "nano ~/.bashrc\n",
    "\n",
    "add in folder :\n",
    "# PRIVATE ALIAS\n",
    "alias sample_alias=\"source /home/lyxor/data_workspace/sample_file.sh\"\n"
   ]
  }
 ],
 "metadata": {
  "language_info": {
   "name": "python"
  }
 },
 "nbformat": 4,
 "nbformat_minor": 5
}
