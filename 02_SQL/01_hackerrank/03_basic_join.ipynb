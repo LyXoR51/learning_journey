{
 "cells": [
  {
   "cell_type": "markdown",
   "id": "afcb760c",
   "metadata": {},
   "source": [
    "# Basic Join\n",
    "\n",
    "https://www.hackerrank.com/domains/sql?filters%5Bsubdomains%5D%5B%5D=join"
   ]
  }
 ],
 "metadata": {
  "language_info": {
   "name": "python"
  }
 },
 "nbformat": 4,
 "nbformat_minor": 5
}
