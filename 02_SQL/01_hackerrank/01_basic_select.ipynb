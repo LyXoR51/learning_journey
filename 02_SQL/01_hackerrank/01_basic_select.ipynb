{
 "cells": [
  {
   "cell_type": "markdown",
   "id": "0ac7d67a",
   "metadata": {},
   "source": [
    "## Revising the Select Query I\n",
    "\n",
    "`SELECT * FROM CITY WHERE COUNTRYCODE='USA' AND POPULATION>100000;`"
   ]
  }
 ],
 "metadata": {
  "language_info": {
   "name": "python"
  }
 },
 "nbformat": 4,
 "nbformat_minor": 5
}
