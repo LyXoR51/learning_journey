{
 "cells": [
  {
   "cell_type": "markdown",
   "id": "81fb0878",
   "metadata": {},
   "source": [
    "# Basic Select\n",
    "\n",
    "All exercices : https://www.hackerrank.com/domains/sql?filters%5Bsubdomains%5D%5B%5D=select"
   ]
  },
  {
   "cell_type": "markdown",
   "id": "47b11994",
   "metadata": {},
   "source": [
    "## Select All\n",
    "\n",
    "    SELECT * \n",
    "    FROM CITY;"
   ]
  },
  {
   "cell_type": "markdown",
   "id": "cd1932ed",
   "metadata": {},
   "source": [
    "## Select By ID\n",
    "\n",
    "    SELECT * \n",
    "    FROM CITY \n",
    "    WHERE ID=1661;"
   ]
  },
  {
   "cell_type": "markdown",
   "id": "0ac7d67a",
   "metadata": {},
   "source": [
    "## Revising the Select Query I\n",
    "\n",
    "    SELECT * \n",
    "    FROM CITY \n",
    "    WHERE COUNTRYCODE='USA' AND POPULATION>100000;"
   ]
  },
  {
   "cell_type": "markdown",
   "id": "0ff6fd9f",
   "metadata": {},
   "source": [
    "## Revising the Select Query II\n",
    "\n",
    "    SELECT NAME \n",
    "    FROM CITY \n",
    "    WHERE COUNTRYCODE='USA' AND POPULATION>120000;"
   ]
  },
  {
   "cell_type": "markdown",
   "id": "5f1766fa",
   "metadata": {},
   "source": [
    "## Employee Names\n",
    "\n",
    "    SELECT name\n",
    "    FROM Employee\n",
    "    ORDER by name ASC;"
   ]
  },
  {
   "cell_type": "markdown",
   "id": "1ecd5905",
   "metadata": {},
   "source": [
    "## Employee Salaries\n",
    "\n",
    "    SELECT name\n",
    "    FROM Employee\n",
    "    WHERE salary > 2000\n",
    "        AND months < 10;"
   ]
  },
  {
   "cell_type": "markdown",
   "id": "98a0b2e5",
   "metadata": {},
   "source": [
    "# Japanese Cities' Attributes\n",
    "\n",
    "    SELECT * \n",
    "    FROM CITY \n",
    "    WHERE COUNTRYCODE='JPN';"
   ]
  },
  {
   "cell_type": "markdown",
   "id": "491acfa2",
   "metadata": {},
   "source": [
    "## Higher Than 75 Marks\n",
    "\n",
    "    SELECT Name\n",
    "    from STUDENTS\n",
    "    WHERE Marks > 75\n",
    "    ORDER BY RIGHT(Name,3),ID ;"
   ]
  },
  {
   "cell_type": "markdown",
   "id": "0e56f6d4",
   "metadata": {},
   "source": [
    "# Japanese Cities' Names\n",
    "\n",
    "    SELECT NAME\n",
    "    FROM CITY\n",
    "    WHERE COUNTRYCODE='JPN';"
   ]
  },
  {
   "cell_type": "markdown",
   "id": "588f4836",
   "metadata": {},
   "source": [
    "# Weather Observation Station 1\n",
    "\n",
    "    SELECT CITY, STATE \n",
    "    FROM STATION;"
   ]
  },
  {
   "cell_type": "markdown",
   "id": "2a5242ea",
   "metadata": {},
   "source": [
    "# Weather Observation Station 3\n",
    "\n",
    "    SELECT DISTINCT(CITY)\n",
    "    FROM STATION\n",
    "    WHERE MOD(ID, 2) = 0;"
   ]
  },
  {
   "cell_type": "markdown",
   "id": "f62d2ce0",
   "metadata": {},
   "source": [
    "# Weather Observation Station 4\n",
    "\n",
    "    SELECT COUNT(CITY) - COUNT(DISTINCT CITY) \n",
    "    FROM STATION;"
   ]
  },
  {
   "cell_type": "markdown",
   "id": "d34183bf",
   "metadata": {},
   "source": [
    "# Weather Observation Station 5\n",
    "\n",
    "    SELECT CITY, LENGTH(CITY)\n",
    "    FROM STATION\n",
    "    WHERE LENGTH(CITY) = (\n",
    "        SELECT MIN(LENGTH(CITY))\n",
    "        FROM STATION\n",
    "    )\n",
    "    ORDER BY CITY\n",
    "    LIMIT 1;"
   ]
  },
  {
   "cell_type": "markdown",
   "id": "cd5a6fc6",
   "metadata": {},
   "source": [
    "# Weather Observation Station 6\n",
    "\n",
    "    SELECT DISTINCT CITY\n",
    "    FROM STATION\n",
    "    WHERE CITY LIKE 'A%' OR CITY LIKE 'E%' OR CITY LIKE 'I%' OR CITY LIKE 'O%' OR CITY LIKE 'U%';"
   ]
  },
  {
   "cell_type": "markdown",
   "id": "372f80df",
   "metadata": {},
   "source": [
    "# Weather Observation Station 7\n",
    "\n",
    "    SELECT DISTINCT CITY\n",
    "    FROM STATION\n",
    "    WHERE CITY LIKE '%a' OR CITY LIKE '%e' OR CITY LIKE '%i' OR CITY LIKE '%o' OR CITY LIKE '%u';"
   ]
  },
  {
   "cell_type": "markdown",
   "id": "d64800d9",
   "metadata": {},
   "source": [
    "# Weather Observation Station 8\n",
    "\n",
    "    SELECT DISTINCT CITY\n",
    "    FROM STATION\n",
    "    WHERE (CITY LIKE 'A%' OR CITY LIKE 'E%' OR CITY LIKE 'I%' OR CITY LIKE 'O%' OR CITY LIKE 'U%')\n",
    "        AND (CITY LIKE '%a' OR CITY LIKE '%e' OR CITY LIKE '%i' OR CITY LIKE '%o' OR CITY LIKE '%u');"
   ]
  },
  {
   "cell_type": "markdown",
   "id": "e80b7e05",
   "metadata": {},
   "source": [
    "# Weather Observation Station 9\n",
    "\n",
    "    SELECT DISTINCT CITY\n",
    "    FROM STATION\n",
    "    WHERE CITY NOT LIKE 'A%'\n",
    "        AND CITY NOT LIKE 'E%'\n",
    "        AND CITY NOT LIKE 'I%'\n",
    "        AND CITY NOT LIKE 'O%'\n",
    "        AND CITY NOT LIKE 'U%';"
   ]
  },
  {
   "cell_type": "markdown",
   "id": "c8b32497",
   "metadata": {},
   "source": [
    "# Weather Observation Station 10\n",
    "\n",
    "    SELECT DISTINCT CITY\n",
    "    FROM STATION\n",
    "    WHERE CITY NOT LIKE '%a'\n",
    "        AND CITY NOT LIKE '%e'\n",
    "        AND CITY NOT LIKE '%i'\n",
    "        AND CITY NOT LIKE '%o'\n",
    "        AND CITY NOT LIKE '%u';"
   ]
  },
  {
   "cell_type": "markdown",
   "id": "c1ef4235",
   "metadata": {},
   "source": [
    "# Weather Observation Station 11\n",
    "\n",
    "    SELECT DISTINCT CITY\n",
    "    FROM STATION\n",
    "    WHERE (CITY NOT LIKE 'A%'\n",
    "            AND CITY NOT LIKE 'E%'\n",
    "            AND CITY NOT LIKE 'I%'\n",
    "            AND CITY NOT LIKE 'O%'\n",
    "            AND CITY NOT LIKE 'U%')\n",
    "        OR (CITY NOT LIKE '%a'\n",
    "            AND CITY NOT LIKE '%e'\n",
    "            AND CITY NOT LIKE '%i'\n",
    "            AND CITY NOT LIKE '%o'\n",
    "            AND CITY NOT LIKE '%u');"
   ]
  },
  {
   "cell_type": "markdown",
   "id": "0110436e",
   "metadata": {},
   "source": [
    "# Weather Observation Station 12\n",
    "\n",
    "    SELECT DISTINCT CITY\n",
    "    FROM STATION\n",
    "    WHERE CITY NOT LIKE '%a'\n",
    "        AND CITY NOT LIKE '%e'\n",
    "        AND CITY NOT LIKE '%i'\n",
    "        AND CITY NOT LIKE '%o'\n",
    "        AND CITY NOT LIKE '%u'\n",
    "        AND CITY NOT LIKE 'A%'\n",
    "        AND CITY NOT LIKE 'E%'\n",
    "        AND CITY NOT LIKE 'I%'\n",
    "        AND CITY NOT LIKE 'O%'\n",
    "        AND CITY NOT LIKE 'U%';"
   ]
  }
 ],
 "metadata": {
  "language_info": {
   "name": "python"
  }
 },
 "nbformat": 4,
 "nbformat_minor": 5
}
