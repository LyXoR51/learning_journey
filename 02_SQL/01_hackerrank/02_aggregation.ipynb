{
 "cells": [
  {
   "cell_type": "markdown",
   "id": "2f405503",
   "metadata": {},
   "source": [
    "# Aggregation\n",
    "\n",
    "https://www.hackerrank.com/domains/sql?filters%5Bsubdomains%5D%5B%5D=aggregation\n",
    "\n",
    "**Tips :**\n",
    "\n",
    "    ROUND(colums, level)\n",
    "    FLOOR()  = rounded down to int!\n",
    "    CEILING() = rounded up to int !\n",
    "    REPLACE(string, from_string, new_string)\n",
    "    ABS() = absolute\n"
   ]
  },
  {
   "cell_type": "markdown",
   "id": "6929d9c9",
   "metadata": {},
   "source": [
    "## Revising Aggregations - The Count Function\n",
    "\n",
    "    SELECT COUNT(ID)\n",
    "    FROM CITY\n",
    "    WHERE POPULATION > 100000;"
   ]
  },
  {
   "cell_type": "markdown",
   "id": "189fd72f",
   "metadata": {},
   "source": [
    "## Revising Aggregations - The Sum Function\n",
    "\n",
    "    SELECT SUM(POPULATION)\n",
    "    FROM CITY\n",
    "    WHERE DISTRICT LIKE 'California';"
   ]
  },
  {
   "cell_type": "markdown",
   "id": "5acd3217",
   "metadata": {},
   "source": [
    "## Revising Aggregations - Averages\n",
    "\n",
    "    SELECT AVG(POPULATION)\n",
    "    FROM CITY\n",
    "    WHERE DISTRICT LIKE 'California';"
   ]
  },
  {
   "cell_type": "markdown",
   "id": "5e1d227a",
   "metadata": {},
   "source": [
    "## Average Population\n",
    "\n",
    "    SELECT FLOOR(AVG(POPULATION))\n",
    "    FROM CITY;"
   ]
  },
  {
   "cell_type": "markdown",
   "id": "fe7703ae",
   "metadata": {},
   "source": [
    "## Japan Population\n",
    "\n",
    "    SELECT SUM(POPULATION)\n",
    "    FROM CITY\n",
    "    WHERE COUNTRYCODE LIKE 'JPN';"
   ]
  },
  {
   "cell_type": "markdown",
   "id": "f3d46b07",
   "metadata": {},
   "source": [
    "## Population Density Difference\n",
    "\n",
    "    SELECT MAX(POPULATION) - MIN(POPULATION)\n",
    "    FROM CITY;"
   ]
  },
  {
   "cell_type": "markdown",
   "id": "59b628f0",
   "metadata": {},
   "source": [
    "## Top Earners\n",
    "\n",
    "    SELECT MAX(salary * months), COUNT(employee_id)\n",
    "    FROM Employee\n",
    "    WHERE salary * months = (\n",
    "        SELECT MAX(salary * months)\n",
    "        FROM Employee\n",
    "    );"
   ]
  },
  {
   "cell_type": "markdown",
   "id": "069feed1",
   "metadata": {},
   "source": [
    "## The Blunder\n",
    "\n",
    "    SELECT CEILING(AVG(salary)-AVG(REPLACE(salary, 0, '')))\n",
    "    FROM EMPLOYEES"
   ]
  },
  {
   "cell_type": "markdown",
   "id": "25173fb3",
   "metadata": {},
   "source": [
    "## Weather Observation Station 2\n",
    "\n",
    "    SELECT ROUND(SUM(LAT_N),2),ROUND(SUM(LONG_W),2)\n",
    "    FROM STATION;"
   ]
  },
  {
   "cell_type": "markdown",
   "id": "d2ef5754",
   "metadata": {},
   "source": [
    "## Weather Observation Station 13\n",
    "\n",
    "    SELECT ROUND(SUM(LAT_N),4)\n",
    "    FROM STATION\n",
    "    WHERE LAT_N BETWEEN 38.7888 AND 137.2345;"
   ]
  },
  {
   "cell_type": "markdown",
   "id": "11ed5eb7",
   "metadata": {},
   "source": [
    "## Weather Observation Station 14\n",
    "\n",
    "    SELECT ROUND(MAX(LAT_N),4)\n",
    "    FROM STATION\n",
    "    WHERE LAT_N < 137.2345;"
   ]
  },
  {
   "cell_type": "markdown",
   "id": "46471086",
   "metadata": {},
   "source": [
    "## Weather Observation Station 15\n",
    "\n",
    "    SELECT ROUND((LONG_W),4)\n",
    "    FROM STATION\n",
    "    WHERE LAT_N = (\n",
    "        SELECT MAX(LAT_N)\n",
    "        FROM STATION\n",
    "        WHERE LAT_N < 137.2335\n",
    "    );"
   ]
  },
  {
   "cell_type": "markdown",
   "id": "75297409",
   "metadata": {},
   "source": [
    "## Weather Observation Station 16\n",
    "\n",
    "    SELECT ROUND(MIN(LAT_N),4)\n",
    "    FROM STATION\n",
    "    WHERE LAT_N > 38.7780; "
   ]
  },
  {
   "cell_type": "markdown",
   "id": "e78532e6",
   "metadata": {},
   "source": [
    "## Weather Observation Station 17\n",
    "\n",
    "    SELECT ROUND(LONG_W,4)\n",
    "    FROM STATION\n",
    "    WHERE LAT_N = (\n",
    "        SELECT MIN(LAT_N)\n",
    "        FROM STATION\n",
    "        WHERE LAT_N > 38.7780\n",
    "    );"
   ]
  },
  {
   "cell_type": "markdown",
   "id": "475f0c97",
   "metadata": {},
   "source": [
    "## Weather Observation Station 18\n",
    "\n",
    "Manahattan distance : p1 at (x1, y1) and p2 at (x2, y2), it is |x1 - x2| + |y1 - y2|\n",
    "\n",
    "    SELECT ROUND(ABS(MIN(LAT_N) - MAX(LAT_N)) +  ABS(MIN(LONG_W) - MAX(LONG_W)),4)\n",
    "    FROM STATION;\n"
   ]
  },
  {
   "attachments": {
    "image.png": {
     "image/png": "[encoded data removed]"
    }
   },
   "cell_type": "markdown",
   "id": "ac9e044b",
   "metadata": {},
   "source": [
    "## Weather Observation Station 19\n",
    "\n",
    "Euclidean Distance : ![image.png](attachment:image.png)\n",
    "\n",
    "    SELECT ROUND(SQRT(POWER(MIN(LAT_N) - MAX(LAT_N),2) + POWER(MIN(LONG_W) - MAX(LONG_W),2)),4)\n",
    "    FROM STATION;"
   ]
  }
 ],
 "metadata": {
  "language_info": {
   "name": "python"
  }
 },
 "nbformat": 4,
 "nbformat_minor": 5
}
